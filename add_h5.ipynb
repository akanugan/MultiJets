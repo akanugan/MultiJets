{
 "cells": [
  {
   "cell_type": "code",
   "execution_count": 1,
   "metadata": {},
   "outputs": [
    {
     "name": "stdout",
     "output_type": "stream",
     "text": [
      "unsupervised-search/QCD_HT_h5s/combined_out_QCD_HT700to1000.h5\n",
      "unsupervised-search/QCD_HT_h5s/combined_out_QCD_HT1000to1500.h5\n",
      "unsupervised-search/QCD_HT_h5s/combined_out_QCD_HT1500to2000.h5\n",
      "unsupervised-search/QCD_HT_h5s/combined_out_QCD_HT2000toInf.h5\n"
     ]
    }
   ],
   "source": [
    "import os\n",
    "import glob\n",
    "import h5py\n",
    "\n",
    "def is_empty_event(file_path):\n",
    "    with h5py.File(file_path, 'r') as h5_file:\n",
    "        event_vars_group = h5_file.get('EventVars')\n",
    "        if event_vars_group and 'normweight' in event_vars_group and len(event_vars_group['normweight']) == 0:\n",
    "            return True\n",
    "    return False\n",
    "    \n",
    "def copy_items(name, obj, destination_group):\n",
    "    if isinstance(obj, h5py.Group):\n",
    "        if name not in destination_group:\n",
    "            new_group = destination_group.create_group(name)\n",
    "            obj.visititems(lambda subname, subobj: copy_items(subname, subobj, new_group))\n",
    "    elif isinstance(obj, h5py.Dataset):\n",
    "\n",
    "        if name in destination_group:\n",
    "            existing_dataset = destination_group[name]\n",
    "            existing_shape = existing_dataset.shape\n",
    "            existing_dataset.resize((existing_shape[0] + obj.shape[0],) + existing_shape[1:])\n",
    "            existing_dataset[-obj.shape[0]:] = obj[:]\n",
    "        else:\n",
    "            chunks = (1,) + obj.shape[1:]\n",
    "            destination_group.create_dataset(name, shape=obj.shape, dtype=obj.dtype, chunks=chunks, maxshape=(None,) + obj.shape[1:], data=obj[:])\n",
    "\n",
    "def concatenate_h5_in_folder(output_file, folder='unsupervised-search/QCD_HT_h5s'):\n",
    "    files_to_concatenate = glob.glob(os.path.join(folder, '*.h5'))\n",
    "\n",
    "\n",
    "    with h5py.File(output_file, 'w') as output_h5:\n",
    "        for file_path in files_to_concatenate:\n",
    "            print(file_path)\n",
    "            #if not is_empty_event(file_path):\n",
    "            with h5py.File(file_path, 'r') as input_h5:\n",
    "                input_normweight = input_h5.get('EventVars/normweight')\n",
    "                if input_normweight is not None and len(input_normweight) > 0:\n",
    "                    input_h5.visititems(lambda name, obj: copy_items(name, obj, output_h5))\n",
    "\n",
    "output_file_path = 'unsupervised-search/combined_QCD.h5'\n",
    "concatenate_h5_in_folder(output_file_path)\n"
   ]
  },
  {
   "cell_type": "code",
   "execution_count": null,
   "metadata": {},
   "outputs": [],
   "source": []
  }
 ],
 "metadata": {
  "kernelspec": {
   "display_name": "multijets_env",
   "language": "python",
   "name": "python3"
  },
  "language_info": {
   "codemirror_mode": {
    "name": "ipython",
    "version": 3
   },
   "file_extension": ".py",
   "mimetype": "text/x-python",
   "name": "python",
   "nbconvert_exporter": "python",
   "pygments_lexer": "ipython3",
   "version": "3.11.6"
  }
 },
 "nbformat": 4,
 "nbformat_minor": 2
}
