{
 "cells": [
  {
   "cell_type": "code",
   "execution_count": 41,
   "metadata": {},
   "outputs": [],
   "source": [
    "import os\n",
    "import glob\n",
    "import h5py\n",
    "\n",
    "def copy_items(name, obj, destination_group):\n",
    "    if isinstance(obj, h5py.Group):\n",
    "        if name not in destination_group:\n",
    "            new_group = destination_group.create_group(name)\n",
    "            obj.visititems(lambda subname, subobj: copy_items(subname, subobj, new_group))\n",
    "    elif isinstance(obj, h5py.Dataset):\n",
    "\n",
    "        if name in destination_group:\n",
    "            existing_dataset = destination_group[name]\n",
    "            existing_shape = existing_dataset.shape\n",
    "            existing_dataset.resize((existing_shape[0] + obj.shape[0],) + existing_shape[1:])\n",
    "            existing_dataset[-obj.shape[0]:] = obj[:]\n",
    "        else:\n",
    "            chunks = (1,) + obj.shape[1:]\n",
    "            destination_group.create_dataset(name, shape=obj.shape, dtype=obj.dtype, chunks=chunks, maxshape=(None,) + obj.shape[1:], data=obj[:])\n",
    "\n",
    "def concatenate_h5_in_folder(output_file, folder='ML_ana_h5'):\n",
    "    files_to_concatenate = glob.glob(os.path.join(folder, '*.h5'))\n",
    "\n",
    "\n",
    "    with h5py.File(output_file, 'w') as output_h5:\n",
    "        for file_path in files_to_concatenate:\n",
    "            with h5py.File(file_path, 'r') as input_h5:\n",
    "                input_h5.visititems(lambda name, obj: copy_items(name, obj, output_h5))\n",
    "\n",
    "output_file_path = 'combined_out.h5'\n",
    "concatenate_h5_in_folder(output_file_path)\n"
   ]
  },
  {
   "cell_type": "code",
   "execution_count": null,
   "metadata": {},
   "outputs": [],
   "source": []
  }
 ],
 "metadata": {
  "kernelspec": {
   "display_name": "multijets_env",
   "language": "python",
   "name": "python3"
  },
  "language_info": {
   "codemirror_mode": {
    "name": "ipython",
    "version": 3
   },
   "file_extension": ".py",
   "mimetype": "text/x-python",
   "name": "python",
   "nbconvert_exporter": "python",
   "pygments_lexer": "ipython3",
   "version": "3.11.6"
  }
 },
 "nbformat": 4,
 "nbformat_minor": 2
}
