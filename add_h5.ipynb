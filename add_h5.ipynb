{
 "cells": [
  {
   "cell_type": "code",
   "execution_count": 40,
   "metadata": {},
   "outputs": [],
   "source": [
    "import os\n",
    "import glob\n",
    "import h5py\n",
    "\n",
    "def copy_items(name, obj, destination_group):\n",
    "    if isinstance(obj, h5py.Group):\n",
    "        # Check if the group already exists in the destination H5 file\n",
    "        if name not in destination_group:\n",
    "            # Create a new group in the destination H5 file\n",
    "            new_group = destination_group.create_group(name)\n",
    "            # Recursively copy groups and datasets from the current group\n",
    "            obj.visititems(lambda subname, subobj: copy_items(subname, subobj, new_group))\n",
    "    elif isinstance(obj, h5py.Dataset):\n",
    "        # Append datasets with the same name in the destination H5 file\n",
    "        if name in destination_group:\n",
    "            existing_dataset = destination_group[name]\n",
    "            existing_shape = existing_dataset.shape\n",
    "            existing_dataset.resize((existing_shape[0] + obj.shape[0],) + existing_shape[1:])\n",
    "            existing_dataset[-obj.shape[0]:] = obj[:]\n",
    "        else:\n",
    "            # Create a new dataset in the destination H5 file with chunks\n",
    "            chunks = (1,) + obj.shape[1:]\n",
    "            destination_group.create_dataset(name, shape=obj.shape, dtype=obj.dtype, chunks=chunks, maxshape=(None,) + obj.shape[1:], data=obj[:])\n",
    "\n",
    "def concatenate_h5_in_folder(output_file, folder='ML_ana_h5'):\n",
    "    # Get all H5 files in the specified folder\n",
    "    files_to_concatenate = glob.glob(os.path.join(folder, '*.h5'))\n",
    "\n",
    "    # Create a new H5 file for concatenation\n",
    "    with h5py.File(output_file, 'w') as output_h5:\n",
    "        for file_path in files_to_concatenate:\n",
    "            # Open each input H5 file\n",
    "            with h5py.File(file_path, 'r') as input_h5:\n",
    "                # Recursively copy items from the input H5 file to the output H5 file\n",
    "                input_h5.visititems(lambda name, obj: copy_items(name, obj, output_h5))\n",
    "\n",
    "# Example usage:\n",
    "output_file_path = 'combined_out.h5'\n",
    "concatenate_h5_in_folder(output_file_path)\n"
   ]
  },
  {
   "cell_type": "code",
   "execution_count": 17,
   "metadata": {},
   "outputs": [
    {
     "ename": "AttributeError",
     "evalue": "'File' object has no attribute 'shape'",
     "output_type": "error",
     "traceback": [
      "\u001b[0;31m---------------------------------------------------------------------------\u001b[0m",
      "\u001b[0;31mAttributeError\u001b[0m                            Traceback (most recent call last)",
      "Cell \u001b[0;32mIn[17], line 2\u001b[0m\n\u001b[1;32m      1\u001b[0m \u001b[38;5;28;01mwith\u001b[39;00m h5py\u001b[38;5;241m.\u001b[39mFile(\u001b[38;5;124m'\u001b[39m\u001b[38;5;124mcombined_out.h5\u001b[39m\u001b[38;5;124m'\u001b[39m,\u001b[38;5;124m'\u001b[39m\u001b[38;5;124mw\u001b[39m\u001b[38;5;124m'\u001b[39m) \u001b[38;5;28;01mas\u001b[39;00m f:\n\u001b[0;32m----> 2\u001b[0m     \u001b[43mf\u001b[49m\u001b[38;5;241;43m.\u001b[39;49m\u001b[43mshape\u001b[49m\n",
      "\u001b[0;31mAttributeError\u001b[0m: 'File' object has no attribute 'shape'"
     ]
    }
   ],
   "source": []
  },
  {
   "cell_type": "code",
   "execution_count": null,
   "metadata": {},
   "outputs": [],
   "source": []
  }
 ],
 "metadata": {
  "kernelspec": {
   "display_name": "multijets_env",
   "language": "python",
   "name": "python3"
  },
  "language_info": {
   "codemirror_mode": {
    "name": "ipython",
    "version": 3
   },
   "file_extension": ".py",
   "mimetype": "text/x-python",
   "name": "python",
   "nbconvert_exporter": "python",
   "pygments_lexer": "ipython3",
   "version": "3.11.6"
  }
 },
 "nbformat": 4,
 "nbformat_minor": 2
}
