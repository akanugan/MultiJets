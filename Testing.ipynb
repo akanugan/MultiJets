{
 "cells": [
  {
   "cell_type": "code",
   "execution_count": 3,
   "id": "86673067",
   "metadata": {},
   "outputs": [],
   "source": [
    "import os\n",
    "import numpy as np\n",
    "import pandas as pd\n",
    "import matplotlib.pyplot as plt\n",
    "import matplotlib\n",
    "\n",
    "import hist\n",
    "import coffea\n",
    "import uproot"
   ]
  },
  {
   "cell_type": "code",
   "execution_count": 4,
   "id": "19ba8e71",
   "metadata": {},
   "outputs": [
    {
     "data": {
      "text/plain": [
       "{'events;1': 'TTree'}"
      ]
     },
     "execution_count": 4,
     "metadata": {},
     "output_type": "execute_result"
    }
   ],
   "source": [
    "f = uproot.open(\"output2/trip4_slimmed_ntuple_QCD_HT1500to2000_TuneCP5_13TeV-madgraph-pythia8_v2_118.root\")\n",
    "f.classnames()\n"
   ]
  },
  {
   "cell_type": "code",
   "execution_count": 5,
   "id": "820a5a56",
   "metadata": {},
   "outputs": [
    {
     "name": "stdout",
     "output_type": "stream",
     "text": [
      "name                 | typename                 | interpretation                \n",
      "---------------------+--------------------------+-------------------------------\n",
      "Run                  | float                    | AsDtype('>f4')\n",
      "Lumi                 | float                    | AsDtype('>f4')\n",
      "Event                | float                    | AsDtype('>f4')\n",
      "xscn                 | float                    | AsDtype('>f4')\n",
      "trigger_results      | float                    | AsDtype('>f4')\n",
      "mds63                | float                    | AsDtype('>f4')\n",
      "mds6332              | float                    | AsDtype('>f4')\n",
      "jmds63               | float                    | AsDtype('>f4')\n",
      "jmds6332             | float                    | AsDtype('>f4')\n",
      "sixpt                | float                    | AsDtype('>f4')\n",
      "ak4_HT               | float                    | AsDtype('>f4')\n",
      "loose6j_qgl          | float                    | AsDtype('>f4')\n",
      "tight6j_qgl          | float                    | AsDtype('>f4')\n",
      "net_tight_qgl        | float                    | AsDtype('>f4')\n",
      "ak4_num              | int32_t                  | AsDtype('>i4')\n",
      "trip_num             | int32_t                  | AsDtype('>i4')\n",
      "pmds63               | float                    | AsDtype('>f4')\n",
      "pmds6332             | float                    | AsDtype('>f4')\n",
      "ak4_pt               | float[]                  | AsJagged(AsDtype('>f4'))\n",
      "ak4_eta              | float[]                  | AsJagged(AsDtype('>f4'))\n",
      "ak4_phi              | float[]                  | AsJagged(AsDtype('>f4'))\n",
      "ak4_m                | float[]                  | AsJagged(AsDtype('>f4'))\n",
      "ak4_area             | float[]                  | AsJagged(AsDtype('>f4'))\n",
      "ak4_jec              | float[]                  | AsJagged(AsDtype('>f4'))\n",
      "ak4_csv              | float[]                  | AsJagged(AsDtype('>f4'))\n",
      "ak4_jetid            | float[]                  | AsJagged(AsDtype('>f4'))\n",
      "ak4_match            | float[]                  | AsJagged(AsDtype('>f4'))\n",
      "ak4_qgl              | float[]                  | AsJagged(AsDtype('>f4'))\n",
      "trip_mass            | float[]                  | AsJagged(AsDtype('>f4'))\n",
      "trip_vpt             | float[]                  | AsJagged(AsDtype('>f4'))\n",
      "trip_spt             | float[]                  | AsJagged(AsDtype('>f4'))\n",
      "trip_delta           | float[]                  | AsJagged(AsDtype('>f4'))\n",
      "trip_eta             | float[]                  | AsJagged(AsDtype('>f4'))\n",
      "trip_phi             | float[]                  | AsJagged(AsDtype('>f4'))\n",
      "trip_masym           | float[]                  | AsJagged(AsDtype('>f4'))\n",
      "trip_deta            | float[]                  | AsJagged(AsDtype('>f4'))\n",
      "trip_mds             | float[]                  | AsJagged(AsDtype('>f4'))\n",
      "trip_dlow            | float[]                  | AsJagged(AsDtype('>f4'))\n",
      "trip_dmid            | float[]                  | AsJagged(AsDtype('>f4'))\n",
      "trip_dhigh           | float[]                  | AsJagged(AsDtype('>f4'))\n",
      "trip_match           | float[]                  | AsJagged(AsDtype('>f4'))\n",
      "trip_tpind           | float[]                  | AsJagged(AsDtype('>f4'))\n",
      "trip_jind            | float[]                  | AsJagged(AsDtype('>f4'))\n",
      "trip_csv             | float[]                  | AsJagged(AsDtype('>f4'))\n",
      "trip_m63             | float[]                  | AsJagged(AsDtype('>f4'))\n",
      "jtrip_mass           | float[]                  | AsJagged(AsDtype('>f4'))\n",
      "jtrip_vpt            | float[]                  | AsJagged(AsDtype('>f4'))\n",
      "jtrip_spt            | float[]                  | AsJagged(AsDtype('>f4'))\n",
      "jtrip_delta          | float[]                  | AsJagged(AsDtype('>f4'))\n",
      "jtrip_eta            | float[]                  | AsJagged(AsDtype('>f4'))\n",
      "jtrip_phi            | float[]                  | AsJagged(AsDtype('>f4'))\n",
      "jtrip_masym          | float[]                  | AsJagged(AsDtype('>f4'))\n",
      "jtrip_deta           | float[]                  | AsJagged(AsDtype('>f4'))\n",
      "jtrip_mds            | float[]                  | AsJagged(AsDtype('>f4'))\n",
      "jtrip_dlow           | float[]                  | AsJagged(AsDtype('>f4'))\n",
      "jtrip_dmid           | float[]                  | AsJagged(AsDtype('>f4'))\n",
      "jtrip_dhigh          | float[]                  | AsJagged(AsDtype('>f4'))\n",
      "jtrip_match          | float[]                  | AsJagged(AsDtype('>f4'))\n",
      "jtrip_tpind          | float[]                  | AsJagged(AsDtype('>f4'))\n",
      "jtrip_jind           | float[]                  | AsJagged(AsDtype('>f4'))\n",
      "jtrip_csv            | float[]                  | AsJagged(AsDtype('>f4'))\n",
      "jtrip_m63            | float[]                  | AsJagged(AsDtype('>f4'))\n",
      "trip_qgl             | float[]                  | AsJagged(AsDtype('>f4'))\n",
      "trip_qgt             | float[]                  | AsJagged(AsDtype('>f4'))\n",
      "jtrip_qgl            | float[]                  | AsJagged(AsDtype('>f4'))\n",
      "jtrip_qgt            | float[]                  | AsJagged(AsDtype('>f4'))\n",
      "ptrip_mass           | float[]                  | AsJagged(AsDtype('>f4'))\n",
      "ptrip_vpt            | float[]                  | AsJagged(AsDtype('>f4'))\n",
      "ptrip_spt            | float[]                  | AsJagged(AsDtype('>f4'))\n",
      "ptrip_delta          | float[]                  | AsJagged(AsDtype('>f4'))\n",
      "ptrip_eta            | float[]                  | AsJagged(AsDtype('>f4'))\n",
      "ptrip_phi            | float[]                  | AsJagged(AsDtype('>f4'))\n",
      "ptrip_masym          | float[]                  | AsJagged(AsDtype('>f4'))\n",
      "ptrip_deta           | float[]                  | AsJagged(AsDtype('>f4'))\n",
      "ptrip_mds            | float[]                  | AsJagged(AsDtype('>f4'))\n",
      "ptrip_dlow           | float[]                  | AsJagged(AsDtype('>f4'))\n",
      "ptrip_dmid           | float[]                  | AsJagged(AsDtype('>f4'))\n",
      "ptrip_dhigh          | float[]                  | AsJagged(AsDtype('>f4'))\n",
      "ptrip_match          | float[]                  | AsJagged(AsDtype('>f4'))\n",
      "ptrip_tpind          | float[]                  | AsJagged(AsDtype('>f4'))\n",
      "ptrip_pind           | float[]                  | AsJagged(AsDtype('>f4'))\n",
      "ptrip_csv            | float[]                  | AsJagged(AsDtype('>f4'))\n",
      "ptrip_m63            | float[]                  | AsJagged(AsDtype('>f4'))\n",
      "ptrip_qgl            | float[]                  | AsJagged(AsDtype('>f4'))\n",
      "ptrip_qgt            | float[]                  | AsJagged(AsDtype('>f4'))\n"
     ]
    }
   ],
   "source": [
    "events = f['events']\n",
    "events.show()\n"
   ]
  },
  {
   "cell_type": "code",
   "execution_count": 99,
   "id": "e77a05d6",
   "metadata": {
    "scrolled": true
   },
   "outputs": [],
   "source": [
    "br = events.arrays()\n"
   ]
  },
  {
   "cell_type": "code",
   "execution_count": 110,
   "id": "5cca8367",
   "metadata": {},
   "outputs": [
    {
     "data": {
      "text/plain": [
       "Text(0.5, 0, 'Inv Mass [GeV]')"
      ]
     },
     "execution_count": 110,
     "metadata": {},
     "output_type": "execute_result"
    },
    {
     "data": {
      "image/png": "[encoded data removed]",
      "text/plain": [
       "<Figure size 432x288 with 1 Axes>"
      ]
     },
     "metadata": {
      "needs_background": "light"
     },
     "output_type": "display_data"
    }
   ],
   "source": [
    "from awkward import flatten \n",
    "from matplotlib.patches import Rectangle\n",
    "\n",
    "cmap = plt.get_cmap('jet')\n",
    "low = cmap(0.5)\n",
    "medium =cmap(0.25)\n",
    "high = cmap(0.8)\n",
    "\n",
    "handles = [Rectangle((0,0),0.8,0.8,color=c,ec=\"k\") for c in ['green','blue', 'orange']]\n",
    "labels= [\"qgl index\",\"qgl index, jec\", \"pt index, jec\"]\n",
    "plt.legend(handles, labels)\n",
    "\n",
    "plt.hist(flatten(br['trip_mass']), bins= 100, histtype='step', color='green',range=(0,2500))\n",
    "plt.hist(flatten(br['jtrip_mass']), bins= 100, histtype='step', color='blue',range=(0,2500))\n",
    "plt.hist(flatten(br['ptrip_mass']), bins= 100, histtype='step', color='orange',range=(0,2500))\n",
    "plt.xlabel(\"Inv Mass [GeV]\")"
   ]
  },
  {
   "cell_type": "code",
   "execution_count": 1,
   "id": "ebb2c719",
   "metadata": {},
   "outputs": [
    {
     "ename": "NameError",
     "evalue": "name 'br' is not defined",
     "output_type": "error",
     "traceback": [
      "\u001b[0;31m---------------------------------------------------------------------------\u001b[0m",
      "\u001b[0;31mNameError\u001b[0m                                 Traceback (most recent call last)",
      "Input \u001b[0;32mIn [1]\u001b[0m, in \u001b[0;36m<cell line: 3>\u001b[0;34m()\u001b[0m\n\u001b[1;32m      1\u001b[0m good_inv_masses \u001b[38;5;241m=\u001b[39m []\n\u001b[0;32m----> 3\u001b[0m \u001b[38;5;28;01mfor\u001b[39;00m event \u001b[38;5;129;01min\u001b[39;00m \u001b[43mbr\u001b[49m[\u001b[38;5;124m'\u001b[39m\u001b[38;5;124mjtrip_mass\u001b[39m\u001b[38;5;124m'\u001b[39m]:\n\u001b[1;32m      4\u001b[0m     pair \u001b[38;5;241m=\u001b[39m [event[\u001b[38;5;241m0\u001b[39m],event[\u001b[38;5;241m1\u001b[39m]]\n\u001b[1;32m      5\u001b[0m     asym \u001b[38;5;241m=\u001b[39m \u001b[38;5;28mabs\u001b[39m(event[\u001b[38;5;241m0\u001b[39m] \u001b[38;5;241m-\u001b[39m event[\u001b[38;5;241m1\u001b[39m])\u001b[38;5;241m/\u001b[39m(event[\u001b[38;5;241m0\u001b[39m] \u001b[38;5;241m+\u001b[39m event[\u001b[38;5;241m1\u001b[39m])\n",
      "\u001b[0;31mNameError\u001b[0m: name 'br' is not defined"
     ]
    }
   ],
   "source": [
    "good_inv_masses = []\n",
    "\n",
    "for event in br['jtrip_mass']:\n",
    "    pair = [event[0],event[1]]\n",
    "    asym = abs(event[0] - event[1])/(event[0] + event[1])\n",
    "    for i in range (1, 5):\n",
    "        if (abs((event[2*i] - event[2*i+1])/(event[2*i] + event[2*i+1])) < asym ):\n",
    "            pair = [event[2*i],event[2*i+1]]\n",
    "            asym = abs((event[2*i] - event[2*i+1])/(event[2*i] + event[2*i+1]))\n",
    "            \n",
    "    good_inv_masses.append(pair)\n",
    "plt.hist(flatten(good_inv_masses), bins= 100, range=(0,2500))\n",
    "plt.xlabel(\"Inv Mass [GeV]\")"
   ]
  },
  {
   "cell_type": "code",
   "execution_count": 107,
   "id": "584e2a5d",
   "metadata": {},
   "outputs": [
    {
     "data": {
      "text/plain": [
       "Text(0.5, 0, 'Inv Mass [GeV]')"
      ]
     },
     "execution_count": 107,
     "metadata": {},
     "output_type": "execute_result"
    },
    {
     "data": {
      "image/png": "[encoded data removed]",
      "text/plain": [
       "<Figure size 432x288 with 1 Axes>"
      ]
     },
     "metadata": {
      "needs_background": "light"
     },
     "output_type": "display_data"
    }
   ],
   "source": [
    "bad_inv_masses = []\n",
    "\n",
    "for event in br['jtrip_mass']:\n",
    "    pair = [event[0],event[1]]\n",
    "    asym = abs(event[0] - event[1])/(event[0] + event[1])\n",
    "    for i in range (1, 5):\n",
    "        if (abs((event[2*i] - event[2*i+1])/(event[2*i] + event[2*i+1])) > assym ):\n",
    "            pair = [event[2*i],event[2*i+1]]\n",
    "            asym = abs((event[2*i] - event[2*i+1])/(event[2*i] + event[2*i+1]))\n",
    "    bad_inv_masses.append(pair)\n",
    "plt.hist(flatten(bad_inv_masses), bins= 100, range=(0,2500))\n",
    "plt.xlabel(\"Inv Mass [GeV]\")"
   ]
  },
  {
   "cell_type": "code",
   "execution_count": null,
   "id": "13b4bc8a",
   "metadata": {},
   "outputs": [],
   "source": []
  }
 ],
 "metadata": {
  "kernelspec": {
   "display_name": "Python 3 (ipykernel)",
   "language": "python",
   "name": "python3"
  },
  "language_info": {
   "codemirror_mode": {
    "name": "ipython",
    "version": 3
   },
   "file_extension": ".py",
   "mimetype": "text/x-python",
   "name": "python",
   "nbconvert_exporter": "python",
   "pygments_lexer": "ipython3",
   "version": "3.10.5"
  }
 },
 "nbformat": 4,
 "nbformat_minor": 5
}
