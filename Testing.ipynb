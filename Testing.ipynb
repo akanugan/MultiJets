{
 "cells": [
  {
   "cell_type": "code",
   "execution_count": 3,
   "id": "880197a5",
   "metadata": {},
   "outputs": [],
   "source": [
    "import os\n",
    "import numpy as np\n",
    "import pandas as pd\n",
    "import matplotlib.pyplot as plt\n",
    "import matplotlib\n",
    "\n",
    "import hist\n",
    "import coffea\n",
    "import uproot"
   ]
  },
  {
   "cell_type": "code",
   "execution_count": 4,
   "id": "7e46b2b6",
   "metadata": {},
   "outputs": [
    {
     "data": {
      "text/plain": [
       "{'events;1': 'TTree'}"
      ]
     },
     "execution_count": 4,
     "metadata": {},
     "output_type": "execute_result"
    }
   ],
   "source": [
    "f = uproot.open(\"output2/trip4_slimmed_ntuple_QCD_HT1500to2000_TuneCP5_13TeV-madgraph-pythia8_v2_118.root\")\n",
    "f.classnames()\n"
   ]
  },
  {
   "cell_type": "code",
   "execution_count": 5,
   "id": "13e6750c",
   "metadata": {},
   "outputs": [
    {
     "name": "stdout",
     "output_type": "stream",
     "text": [
      "name                 | typename                 | interpretation                \n",
      "---------------------+--------------------------+-------------------------------\n",
      "Run                  | float                    | AsDtype('>f4')\n",
      "Lumi                 | float                    | AsDtype('>f4')\n",
      "Event                | float                    | AsDtype('>f4')\n",
      "xscn                 | float                    | AsDtype('>f4')\n",
      "trigger_results      | float                    | AsDtype('>f4')\n",
      "mds63                | float                    | AsDtype('>f4')\n",
      "mds6332              | float                    | AsDtype('>f4')\n",
      "jmds63               | float                    | AsDtype('>f4')\n",
      "jmds6332             | float                    | AsDtype('>f4')\n",
      "sixpt                | float                    | AsDtype('>f4')\n",
      "ak4_HT               | float                    | AsDtype('>f4')\n",
      "loose6j_qgl          | float                    | AsDtype('>f4')\n",
      "tight6j_qgl          | float                    | AsDtype('>f4')\n",
      "net_tight_qgl        | float                    | AsDtype('>f4')\n",
      "ak4_num              | int32_t                  | AsDtype('>i4')\n",
      "trip_num             | int32_t                  | AsDtype('>i4')\n",
      "pmds63               | float                    | AsDtype('>f4')\n",
      "pmds6332             | float                    | AsDtype('>f4')\n",
      "ak4_pt               | float[]                  | AsJagged(AsDtype('>f4'))\n",
      "ak4_eta              | float[]                  | AsJagged(AsDtype('>f4'))\n",
      "ak4_phi              | float[]                  | AsJagged(AsDtype('>f4'))\n",
      "ak4_m                | float[]                  | AsJagged(AsDtype('>f4'))\n",
      "ak4_area             | float[]                  | AsJagged(AsDtype('>f4'))\n",
      "ak4_jec              | float[]                  | AsJagged(AsDtype('>f4'))\n",
      "ak4_csv              | float[]                  | AsJagged(AsDtype('>f4'))\n",
      "ak4_jetid            | float[]                  | AsJagged(AsDtype('>f4'))\n",
      "ak4_match            | float[]                  | AsJagged(AsDtype('>f4'))\n",
      "ak4_qgl              | float[]                  | AsJagged(AsDtype('>f4'))\n",
      "trip_mass            | float[]                  | AsJagged(AsDtype('>f4'))\n",
      "trip_vpt             | float[]                  | AsJagged(AsDtype('>f4'))\n",
      "trip_spt             | float[]                  | AsJagged(AsDtype('>f4'))\n",
      "trip_delta           | float[]                  | AsJagged(AsDtype('>f4'))\n",
      "trip_eta             | float[]                  | AsJagged(AsDtype('>f4'))\n",
      "trip_phi             | float[]                  | AsJagged(AsDtype('>f4'))\n",
      "trip_masym           | float[]                  | AsJagged(AsDtype('>f4'))\n",
      "trip_deta            | float[]                  | AsJagged(AsDtype('>f4'))\n",
      "trip_mds             | float[]                  | AsJagged(AsDtype('>f4'))\n",
      "trip_dlow            | float[]                  | AsJagged(AsDtype('>f4'))\n",
      "trip_dmid            | float[]                  | AsJagged(AsDtype('>f4'))\n",
      "trip_dhigh           | float[]                  | AsJagged(AsDtype('>f4'))\n",
      "trip_match           | float[]                  | AsJagged(AsDtype('>f4'))\n",
      "trip_tpind           | float[]                  | AsJagged(AsDtype('>f4'))\n",
      "trip_jind            | float[]                  | AsJagged(AsDtype('>f4'))\n",
      "trip_csv             | float[]                  | AsJagged(AsDtype('>f4'))\n",
      "trip_m63             | float[]                  | AsJagged(AsDtype('>f4'))\n",
      "jtrip_mass           | float[]                  | AsJagged(AsDtype('>f4'))\n",
      "jtrip_vpt            | float[]                  | AsJagged(AsDtype('>f4'))\n",
      "jtrip_spt            | float[]                  | AsJagged(AsDtype('>f4'))\n",
      "jtrip_delta          | float[]                  | AsJagged(AsDtype('>f4'))\n",
      "jtrip_eta            | float[]                  | AsJagged(AsDtype('>f4'))\n",
      "jtrip_phi            | float[]                  | AsJagged(AsDtype('>f4'))\n",
      "jtrip_masym          | float[]                  | AsJagged(AsDtype('>f4'))\n",
      "jtrip_deta           | float[]                  | AsJagged(AsDtype('>f4'))\n",
      "jtrip_mds            | float[]                  | AsJagged(AsDtype('>f4'))\n",
      "jtrip_dlow           | float[]                  | AsJagged(AsDtype('>f4'))\n",
      "jtrip_dmid           | float[]                  | AsJagged(AsDtype('>f4'))\n",
      "jtrip_dhigh          | float[]                  | AsJagged(AsDtype('>f4'))\n",
      "jtrip_match          | float[]                  | AsJagged(AsDtype('>f4'))\n",
      "jtrip_tpind          | float[]                  | AsJagged(AsDtype('>f4'))\n",
      "jtrip_jind           | float[]                  | AsJagged(AsDtype('>f4'))\n",
      "jtrip_csv            | float[]                  | AsJagged(AsDtype('>f4'))\n",
      "jtrip_m63            | float[]                  | AsJagged(AsDtype('>f4'))\n",
      "trip_qgl             | float[]                  | AsJagged(AsDtype('>f4'))\n",
      "trip_qgt             | float[]                  | AsJagged(AsDtype('>f4'))\n",
      "jtrip_qgl            | float[]                  | AsJagged(AsDtype('>f4'))\n",
      "jtrip_qgt            | float[]                  | AsJagged(AsDtype('>f4'))\n",
      "ptrip_mass           | float[]                  | AsJagged(AsDtype('>f4'))\n",
      "ptrip_vpt            | float[]                  | AsJagged(AsDtype('>f4'))\n",
      "ptrip_spt            | float[]                  | AsJagged(AsDtype('>f4'))\n",
      "ptrip_delta          | float[]                  | AsJagged(AsDtype('>f4'))\n",
      "ptrip_eta            | float[]                  | AsJagged(AsDtype('>f4'))\n",
      "ptrip_phi            | float[]                  | AsJagged(AsDtype('>f4'))\n",
      "ptrip_masym          | float[]                  | AsJagged(AsDtype('>f4'))\n",
      "ptrip_deta           | float[]                  | AsJagged(AsDtype('>f4'))\n",
      "ptrip_mds            | float[]                  | AsJagged(AsDtype('>f4'))\n",
      "ptrip_dlow           | float[]                  | AsJagged(AsDtype('>f4'))\n",
      "ptrip_dmid           | float[]                  | AsJagged(AsDtype('>f4'))\n",
      "ptrip_dhigh          | float[]                  | AsJagged(AsDtype('>f4'))\n",
      "ptrip_match          | float[]                  | AsJagged(AsDtype('>f4'))\n",
      "ptrip_tpind          | float[]                  | AsJagged(AsDtype('>f4'))\n",
      "ptrip_pind           | float[]                  | AsJagged(AsDtype('>f4'))\n",
      "ptrip_csv            | float[]                  | AsJagged(AsDtype('>f4'))\n",
      "ptrip_m63            | float[]                  | AsJagged(AsDtype('>f4'))\n",
      "ptrip_qgl            | float[]                  | AsJagged(AsDtype('>f4'))\n",
      "ptrip_qgt            | float[]                  | AsJagged(AsDtype('>f4'))\n"
     ]
    }
   ],
   "source": [
    "events = f['events']\n",
    "events.show()\n"
   ]
  },
  {
   "cell_type": "code",
   "execution_count": 14,
   "id": "7e8c7455",
   "metadata": {
    "scrolled": true
   },
   "outputs": [
    {
     "data": {
      "text/plain": [
       "(array([[  0.,   1.,   6., 106., 327., 364., 244., 150.,  71.,  54.],\n",
       "        [664., 562., 126.,  29.,  11.,   3.,   0.,   0.,   0.,   0.],\n",
       "        [  0.,   0.,  22., 220., 438., 323., 169.,  88.,  56.,  32.],\n",
       "        [394., 706., 212.,  52.,  23.,   4.,   2.,   2.,   0.,   0.],\n",
       "        [  0.,   2.,  56., 298., 428., 298., 124.,  82.,  41.,  27.],\n",
       "        [262., 664., 325.,  94.,  34.,  10.,   5.,   1.,   0.,   0.],\n",
       "        [  0.,   5.,  98., 335., 405., 292., 108.,  59.,  32.,  28.],\n",
       "        [226., 604., 368., 120.,  42.,  20.,  13.,   2.,   0.,   0.],\n",
       "        [  0.,  31., 229., 491., 324., 163.,  91.,  35.,  13.,   6.],\n",
       "        [178., 718., 326., 123.,  30.,  12.,   6.,   1.,   1.,   0.],\n",
       "        [  2.,  53., 354., 494., 252., 118.,  75.,  24.,  10.,   4.],\n",
       "        [146., 577., 415., 159.,  63.,  21.,   8.,   5.,   1.,   0.],\n",
       "        [  3., 107., 407., 484., 207.,  99.,  53.,  19.,   6.,   2.],\n",
       "        [101., 499., 470., 191.,  71.,  36.,  18.,   7.,   1.,   1.],\n",
       "        [ 20., 241., 529., 345., 144.,  71.,  30.,   6.,   5.,   3.],\n",
       "        [ 70., 467., 453., 217.,  89.,  55.,  25.,  10.,   5.,   4.],\n",
       "        [ 38., 308., 587., 281., 100.,  54.,  20.,   2.,   2.,   2.],\n",
       "        [ 53., 373., 482., 262.,  93.,  71.,  35.,  16.,   4.,   2.],\n",
       "        [ 46., 539., 517., 188.,  68.,  18.,  16.,   0.,   2.,   1.],\n",
       "        [ 36., 291., 430., 329., 145.,  76.,  46.,  25.,   9.,   6.]]),\n",
       " array([   0.,  300.,  600.,  900., 1200., 1500., 1800., 2100., 2400.,\n",
       "        2700., 3000.]),\n",
       " <a list of 20 BarContainer objects>)"
      ]
     },
     "execution_count": 14,
     "metadata": {},
     "output_type": "execute_result"
    },
    {
     "data": {
      "image/png": "[encoded data removed]",
      "text/plain": [
       "<Figure size 432x288 with 1 Axes>"
      ]
     },
     "metadata": {
      "needs_background": "light"
     },
     "output_type": "display_data"
    }
   ],
   "source": [
    "br = events.arrays()\n"
   ]
  },
  {
   "cell_type": "code",
   "execution_count": 68,
   "id": "989480f4",
   "metadata": {},
   "outputs": [
    {
     "data": {
      "text/plain": [
       "(array([   2.,   66.,  246.,  621.,  843., 1023., 1123., 1160., 1261.,\n",
       "        1194., 1251., 1195., 1158., 1134., 1031.,  988.,  976.,  913.,\n",
       "         897.,  791.,  833.,  728.,  663.,  660.,  625.,  604.,  531.,\n",
       "         462.,  426.,  425.,  400.,  372.,  332.,  305.,  279.,  263.,\n",
       "         234.,  178.,  163.,  149.,  149.,  124.,  123.,  102.,   70.,\n",
       "          89.,   60.,   57.,   47.,   34.]),\n",
       " array([   0.,   50.,  100.,  150.,  200.,  250.,  300.,  350.,  400.,\n",
       "         450.,  500.,  550.,  600.,  650.,  700.,  750.,  800.,  850.,\n",
       "         900.,  950., 1000., 1050., 1100., 1150., 1200., 1250., 1300.,\n",
       "        1350., 1400., 1450., 1500., 1550., 1600., 1650., 1700., 1750.,\n",
       "        1800., 1850., 1900., 1950., 2000., 2050., 2100., 2150., 2200.,\n",
       "        2250., 2300., 2350., 2400., 2450., 2500.]),\n",
       " <BarContainer object of 50 artists>)"
      ]
     },
     "execution_count": 68,
     "metadata": {},
     "output_type": "execute_result"
    },
    {
     "data": {
      "image/png": "[encoded data removed]",
      "text/plain": [
       "<Figure size 432x288 with 1 Axes>"
      ]
     },
     "metadata": {
      "needs_background": "light"
     },
     "output_type": "display_data"
    }
   ],
   "source": [
    "from awkward import flatten \n",
    "plt.hist(flatten(br['jtrip_mass']), bins= 50, range=(0,2500))"
   ]
  },
  {
   "cell_type": "code",
   "execution_count": 52,
   "id": "40a62785",
   "metadata": {},
   "outputs": [
    {
     "data": {
      "text/plain": [
       "(array([ 0.,  0.,  0.,  0.,  0.,  0.,  0.,  1.,  1.,  1.,  2.,  4.,  0.,\n",
       "         0.,  5., 10.,  6.,  2.,  3.,  6.,  6., 10., 12., 13., 23., 24.,\n",
       "        16., 29., 27., 45., 49., 51., 49., 46., 52., 56., 46., 54., 53.,\n",
       "        38., 43., 49., 48., 35., 32., 33., 25., 32., 24., 26., 29., 15.,\n",
       "        27., 21., 13., 13., 10.,  7., 11., 10., 11., 11., 12., 10.,  8.,\n",
       "         7.,  8.,  6.,  9.,  3.]),\n",
       " array([   0.        ,   42.85714286,   85.71428571,  128.57142857,\n",
       "         171.42857143,  214.28571429,  257.14285714,  300.        ,\n",
       "         342.85714286,  385.71428571,  428.57142857,  471.42857143,\n",
       "         514.28571429,  557.14285714,  600.        ,  642.85714286,\n",
       "         685.71428571,  728.57142857,  771.42857143,  814.28571429,\n",
       "         857.14285714,  900.        ,  942.85714286,  985.71428571,\n",
       "        1028.57142857, 1071.42857143, 1114.28571429, 1157.14285714,\n",
       "        1200.        , 1242.85714286, 1285.71428571, 1328.57142857,\n",
       "        1371.42857143, 1414.28571429, 1457.14285714, 1500.        ,\n",
       "        1542.85714286, 1585.71428571, 1628.57142857, 1671.42857143,\n",
       "        1714.28571429, 1757.14285714, 1800.        , 1842.85714286,\n",
       "        1885.71428571, 1928.57142857, 1971.42857143, 2014.28571429,\n",
       "        2057.14285714, 2100.        , 2142.85714286, 2185.71428571,\n",
       "        2228.57142857, 2271.42857143, 2314.28571429, 2357.14285714,\n",
       "        2400.        , 2442.85714286, 2485.71428571, 2528.57142857,\n",
       "        2571.42857143, 2614.28571429, 2657.14285714, 2700.        ,\n",
       "        2742.85714286, 2785.71428571, 2828.57142857, 2871.42857143,\n",
       "        2914.28571429, 2957.14285714, 3000.        ]),\n",
       " <BarContainer object of 70 artists>)"
      ]
     },
     "execution_count": 52,
     "metadata": {},
     "output_type": "execute_result"
    },
    {
     "data": {
      "image/png": "[encoded data removed]",
      "text/plain": [
       "<Figure size 432x288 with 1 Axes>"
      ]
     },
     "metadata": {
      "needs_background": "light"
     },
     "output_type": "display_data"
    }
   ],
   "source": [
    "plt.hist([i[0] for i in br['jtrip_mass']],bins=70,range=(0,3000))"
   ]
  },
  {
   "cell_type": "code",
   "execution_count": 82,
   "id": "9dc04ae7",
   "metadata": {},
   "outputs": [],
   "source": [
    "good_inv_masses = []\n",
    "\n",
    "for event in br['jtrip_mass']:\n",
    "    pair = [event[0],event[1]]\n",
    "    assym = abs(event[0] - event[1])\n",
    "    for i in range (1, 5):\n",
    "        if (abs(event[2*i] - event[2*i+1]) < assym ):\n",
    "            pair = [event[2*i],event[2*i+1]]\n",
    "            \n",
    "    good_inv_masses.append(pair)"
   ]
  },
  {
   "cell_type": "code",
   "execution_count": 84,
   "id": "680ce23b",
   "metadata": {
    "scrolled": true
   },
   "outputs": [
    {
     "name": "stdout",
     "output_type": "stream",
     "text": [
      "2790\n"
     ]
    },
    {
     "data": {
      "image/png": "[encoded data removed]",
      "text/plain": [
       "<Figure size 432x288 with 1 Axes>"
      ]
     },
     "metadata": {
      "needs_background": "light"
     },
     "output_type": "display_data"
    }
   ],
   "source": [
    "plt.hist(flatten(good_inv_masses), bins= 100, range=(0,2500))\n",
    "print(len(flatten(good_inv_masses)))"
   ]
  },
  {
   "cell_type": "code",
   "execution_count": null,
   "id": "8e614fb8",
   "metadata": {},
   "outputs": [],
   "source": []
  }
 ],
 "metadata": {
  "kernelspec": {
   "display_name": "Python 3 (ipykernel)",
   "language": "python",
   "name": "python3"
  },
  "language_info": {
   "codemirror_mode": {
    "name": "ipython",
    "version": 3
   },
   "file_extension": ".py",
   "mimetype": "text/x-python",
   "name": "python",
   "nbconvert_exporter": "python",
   "pygments_lexer": "ipython3",
   "version": "3.10.5"
  }
 },
 "nbformat": 4,
 "nbformat_minor": 5
}
