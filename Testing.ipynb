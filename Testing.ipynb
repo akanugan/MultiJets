{
 "cells": [
  {
   "cell_type": "code",
   "execution_count": 1,
   "id": "2213d2b3",
   "metadata": {},
   "outputs": [
    {
     "ename": "ModuleNotFoundError",
     "evalue": "No module named 'matplotlib'",
     "output_type": "error",
     "traceback": [
      "\u001b[0;31m---------------------------------------------------------------------------\u001b[0m",
      "\u001b[0;31mModuleNotFoundError\u001b[0m                       Traceback (most recent call last)",
      "Input \u001b[0;32mIn [1]\u001b[0m, in \u001b[0;36m<cell line: 4>\u001b[0;34m()\u001b[0m\n\u001b[1;32m      2\u001b[0m \u001b[38;5;28;01mimport\u001b[39;00m \u001b[38;5;21;01mnumpy\u001b[39;00m \u001b[38;5;28;01mas\u001b[39;00m \u001b[38;5;21;01mnp\u001b[39;00m\n\u001b[1;32m      3\u001b[0m \u001b[38;5;28;01mimport\u001b[39;00m \u001b[38;5;21;01mpandas\u001b[39;00m \u001b[38;5;28;01mas\u001b[39;00m \u001b[38;5;21;01mpd\u001b[39;00m\n\u001b[0;32m----> 4\u001b[0m \u001b[38;5;28;01mimport\u001b[39;00m \u001b[38;5;21;01mmatplotlib\u001b[39;00m\u001b[38;5;21;01m.\u001b[39;00m\u001b[38;5;21;01mpyplot\u001b[39;00m \u001b[38;5;28;01mas\u001b[39;00m \u001b[38;5;21;01mplt\u001b[39;00m\n\u001b[1;32m      5\u001b[0m \u001b[38;5;28;01mimport\u001b[39;00m \u001b[38;5;21;01mmatplotlib\u001b[39;00m\n\u001b[1;32m      7\u001b[0m \u001b[38;5;28;01mimport\u001b[39;00m \u001b[38;5;21;01mhist\u001b[39;00m\n",
      "\u001b[0;31mModuleNotFoundError\u001b[0m: No module named 'matplotlib'"
     ]
    }
   ],
   "source": [
    "import os\n",
    "import numpy as np\n",
    "import pandas as pd\n",
    "import matplotlib.pyplot as plt\n",
    "import matplotlib\n",
    "\n",
    "import hist\n",
    "import coffea\n",
    "import uproot"
   ]
  },
  {
   "cell_type": "code",
   "execution_count": 2,
   "id": "5a8ec8dd",
   "metadata": {},
   "outputs": [
    {
     "data": {
      "text/plain": [
       "{'events;1': 'TTree'}"
      ]
     },
     "execution_count": 2,
     "metadata": {},
     "output_type": "execute_result"
    }
   ],
   "source": [
    "f = uproot.open(\"output2/trip4_slimmed_ntuple_QCD_HT1500to2000_TuneCP5_13TeV-madgraph-pythia8_v2_118.root\")\n",
    "f.classnames()\n"
   ]
  },
  {
   "cell_type": "code",
   "execution_count": 9,
   "id": "e6e360b3",
   "metadata": {},
   "outputs": [],
   "source": [
    "events = f['events']"
   ]
  },
  {
   "cell_type": "code",
   "execution_count": 4,
   "id": "47ed88fe",
   "metadata": {
    "scrolled": true
   },
   "outputs": [],
   "source": [
    "br = events.arrays()\n"
   ]
  },
  {
   "cell_type": "code",
   "execution_count": 5,
   "id": "397f64bf",
   "metadata": {},
   "outputs": [
    {
     "data": {
      "text/plain": [
       "Text(0.5, 0, 'Inv Mass [GeV]')"
      ]
     },
     "execution_count": 5,
     "metadata": {},
     "output_type": "execute_result"
    },
    {
     "data": {
      "image/png": "[encoded data removed]",
      "text/plain": [
       "<Figure size 432x288 with 1 Axes>"
      ]
     },
     "metadata": {
      "needs_background": "light"
     },
     "output_type": "display_data"
    }
   ],
   "source": [
    "from awkward import flatten \n",
    "from matplotlib.patches import Rectangle\n",
    "\n",
    "cmap = plt.get_cmap('jet')\n",
    "low = cmap(0.5)\n",
    "medium =cmap(0.25)\n",
    "high = cmap(0.8)\n",
    "\n",
    "handles = [Rectangle((0,0),0.8,0.8,color=c,ec=\"k\") for c in ['green','blue', 'orange']]\n",
    "labels= [\"qgl index\",\"qgl index, jec\", \"pt index, jec\"]\n",
    "plt.legend(handles, labels)\n",
    "\n",
    "plt.hist(flatten(br['trip_mass']), bins= 100, histtype='step', color='green',range=(0,2500))\n",
    "plt.hist(flatten(br['jtrip_mass']), bins= 100, histtype='step', color='blue',range=(0,2500))\n",
    "plt.hist(flatten(br['ptrip_mass']), bins= 100, histtype='step', color='orange',range=(0,2500))\n",
    "plt.xlabel(\"Inv Mass [GeV]\")"
   ]
  },
  {
   "cell_type": "code",
   "execution_count": 6,
   "id": "364548a6",
   "metadata": {},
   "outputs": [
    {
     "data": {
      "text/plain": [
       "Text(0.5, 0, 'Inv Mass [GeV]')"
      ]
     },
     "execution_count": 6,
     "metadata": {},
     "output_type": "execute_result"
    },
    {
     "data": {
      "image/png": "[encoded data removed]",
      "text/plain": [
       "<Figure size 432x288 with 1 Axes>"
      ]
     },
     "metadata": {
      "needs_background": "light"
     },
     "output_type": "display_data"
    }
   ],
   "source": [
    "good_inv_masses = []\n",
    "\n",
    "for event in br['jtrip_mass']:\n",
    "    pair = [event[0],event[1]]\n",
    "    asym = abs(event[0] - event[1])/(event[0] + event[1])\n",
    "    for i in range (1, 5):\n",
    "        if (abs((event[2*i] - event[2*i+1])/(event[2*i] + event[2*i+1])) < asym ):\n",
    "            pair = [event[2*i],event[2*i+1]]\n",
    "            asym = abs((event[2*i] - event[2*i+1])/(event[2*i] + event[2*i+1]))\n",
    "            \n",
    "    good_inv_masses.append(pair)\n",
    "plt.hist(flatten(good_inv_masses), bins= 100, range=(0,2500))\n",
    "plt.xlabel(\"Inv Mass [GeV]\")"
   ]
  },
  {
   "cell_type": "code",
   "execution_count": 8,
   "id": "72ac27db",
   "metadata": {},
   "outputs": [
    {
     "data": {
      "text/plain": [
       "Text(0.5, 0, 'Inv Mass [GeV]')"
      ]
     },
     "execution_count": 8,
     "metadata": {},
     "output_type": "execute_result"
    },
    {
     "data": {
      "image/png": "[encoded data removed]",
      "text/plain": [
       "<Figure size 432x288 with 1 Axes>"
      ]
     },
     "metadata": {
      "needs_background": "light"
     },
     "output_type": "display_data"
    }
   ],
   "source": [
    "bad_inv_masses = []\n",
    "\n",
    "for event in br['jtrip_mass']:\n",
    "    pair = [event[0],event[1]]\n",
    "    asym = abs(event[0] - event[1])/(event[0] + event[1])\n",
    "    for i in range (1, 5):\n",
    "        if (abs((event[2*i] - event[2*i+1])/(event[2*i] + event[2*i+1])) > asym ):\n",
    "            pair = [event[2*i],event[2*i+1]]\n",
    "            asym = abs((event[2*i] - event[2*i+1])/(event[2*i] + event[2*i+1]))\n",
    "    bad_inv_masses.append(pair)\n",
    "plt.hist(flatten(bad_inv_masses), bins= 100, range=(0,2500))\n",
    "plt.xlabel(\"Inv Mass [GeV]\")"
   ]
  },
  {
   "cell_type": "code",
   "execution_count": 10,
   "id": "6de05c8f",
   "metadata": {},
   "outputs": [
    {
     "data": {
      "text/plain": [
       "(array([0., 0., 0., 0., 0., 3., 0., 0., 0., 0.]),\n",
       " array([0.5, 0.6, 0.7, 0.8, 0.9, 1. , 1.1, 1.2, 1.3, 1.4, 1.5]),\n",
       " <BarContainer object of 10 artists>)"
      ]
     },
     "execution_count": 10,
     "metadata": {},
     "output_type": "execute_result"
    },
    {
     "data": {
      "image/png": "[encoded data removed]",
      "text/plain": [
       "<Figure size 432x288 with 1 Axes>"
      ]
     },
     "metadata": {
      "needs_background": "light"
     },
     "output_type": "display_data"
    }
   ],
   "source": [
    "plt.hist([1,1,1])"
   ]
  },
  {
   "cell_type": "code",
   "execution_count": null,
   "id": "11f72316",
   "metadata": {},
   "outputs": [],
   "source": []
  }
 ],
 "metadata": {
  "kernelspec": {
   "display_name": "Python 3 (ipykernel)",
   "language": "python",
   "name": "python3"
  },
  "language_info": {
   "codemirror_mode": {
    "name": "ipython",
    "version": 3
   },
   "file_extension": ".py",
   "mimetype": "text/x-python",
   "name": "python",
   "nbconvert_exporter": "python",
   "pygments_lexer": "ipython3",
   "version": "3.10.5"
  }
 },
 "nbformat": 4,
 "nbformat_minor": 5
}
