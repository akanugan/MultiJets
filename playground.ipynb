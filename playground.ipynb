{
 "cells": [
  {
   "cell_type": "code",
   "execution_count": 41,
   "metadata": {},
   "outputs": [],
   "source": [
    "import os\n",
    "import glob\n",
    "import numpy as np\n",
    "import pandas as pd\n",
    "import matplotlib.pyplot as plt\n",
    "import matplotlib\n",
    "import seaborn as sns\n",
    "import hist\n",
    "import uproot"
   ]
  },
  {
   "cell_type": "code",
   "execution_count": 42,
   "metadata": {},
   "outputs": [
    {
     "name": "stdout",
     "output_type": "stream",
     "text": [
      "name                 | typename                 | interpretation                \n",
      "---------------------+--------------------------+-------------------------------\n",
      "Run                  | float                    | AsDtype('>f4')\n",
      "Lumi                 | float                    | AsDtype('>f4')\n",
      "Event                | float                    | AsDtype('>f4')\n",
      "xscn                 | float                    | AsDtype('>f4')\n",
      "trigger_results      | float                    | AsDtype('>f4')\n",
      "mds63                | float                    | AsDtype('>f4')\n",
      "mds6332              | float                    | AsDtype('>f4')\n",
      "jmds63               | float                    | AsDtype('>f4')\n",
      "jmds6332             | float                    | AsDtype('>f4')\n",
      "sixpt                | float                    | AsDtype('>f4')\n",
      "ak4_HT               | float                    | AsDtype('>f4')\n",
      "loose6j_qgl          | float                    | AsDtype('>f4')\n",
      "tight6j_qgl          | float                    | AsDtype('>f4')\n",
      "net_tight_qgl        | float                    | AsDtype('>f4')\n",
      "ak4_num              | int32_t                  | AsDtype('>i4')\n",
      "trip_num             | int32_t                  | AsDtype('>i4')\n",
      "pmds63               | float                    | AsDtype('>f4')\n",
      "pmds6332             | float                    | AsDtype('>f4')\n",
      "ak4_pt               | float[]                  | AsJagged(AsDtype('>f4'))\n",
      "ak4_eta              | float[]                  | AsJagged(AsDtype('>f4'))\n",
      "ak4_phi              | float[]                  | AsJagged(AsDtype('>f4'))\n",
      "ak4_m                | float[]                  | AsJagged(AsDtype('>f4'))\n",
      "ak4_area             | float[]                  | AsJagged(AsDtype('>f4'))\n",
      "ak4_jec              | float[]                  | AsJagged(AsDtype('>f4'))\n",
      "ak4_csv              | float[]                  | AsJagged(AsDtype('>f4'))\n",
      "ak4_jetid            | float[]                  | AsJagged(AsDtype('>f4'))\n",
      "ak4_match            | float[]                  | AsJagged(AsDtype('>f4'))\n",
      "ak4_qgl              | float[]                  | AsJagged(AsDtype('>f4'))\n",
      "trip_mass            | float[]                  | AsJagged(AsDtype('>f4'))\n",
      "trip_vpt             | float[]                  | AsJagged(AsDtype('>f4'))\n",
      "trip_spt             | float[]                  | AsJagged(AsDtype('>f4'))\n",
      "trip_delta           | float[]                  | AsJagged(AsDtype('>f4'))\n",
      "trip_eta             | float[]                  | AsJagged(AsDtype('>f4'))\n",
      "trip_phi             | float[]                  | AsJagged(AsDtype('>f4'))\n",
      "trip_masym           | float[]                  | AsJagged(AsDtype('>f4'))\n",
      "trip_deta            | float[]                  | AsJagged(AsDtype('>f4'))\n",
      "trip_mds             | float[]                  | AsJagged(AsDtype('>f4'))\n",
      "trip_dlow            | float[]                  | AsJagged(AsDtype('>f4'))\n",
      "trip_dmid            | float[]                  | AsJagged(AsDtype('>f4'))\n",
      "trip_dhigh           | float[]                  | AsJagged(AsDtype('>f4'))\n",
      "trip_match           | float[]                  | AsJagged(AsDtype('>f4'))\n",
      "trip_tpind           | float[]                  | AsJagged(AsDtype('>f4'))\n",
      "trip_jind            | float[]                  | AsJagged(AsDtype('>f4'))\n",
      "trip_csv             | float[]                  | AsJagged(AsDtype('>f4'))\n",
      "trip_m63             | float[]                  | AsJagged(AsDtype('>f4'))\n",
      "jtrip_mass           | float[]                  | AsJagged(AsDtype('>f4'))\n",
      "jtrip_vpt            | float[]                  | AsJagged(AsDtype('>f4'))\n",
      "jtrip_spt            | float[]                  | AsJagged(AsDtype('>f4'))\n",
      "jtrip_delta          | float[]                  | AsJagged(AsDtype('>f4'))\n",
      "jtrip_eta            | float[]                  | AsJagged(AsDtype('>f4'))\n",
      "jtrip_phi            | float[]                  | AsJagged(AsDtype('>f4'))\n",
      "jtrip_masym          | float[]                  | AsJagged(AsDtype('>f4'))\n",
      "jtrip_deta           | float[]                  | AsJagged(AsDtype('>f4'))\n",
      "jtrip_mds            | float[]                  | AsJagged(AsDtype('>f4'))\n",
      "jtrip_dlow           | float[]                  | AsJagged(AsDtype('>f4'))\n",
      "jtrip_dmid           | float[]                  | AsJagged(AsDtype('>f4'))\n",
      "jtrip_dhigh          | float[]                  | AsJagged(AsDtype('>f4'))\n",
      "jtrip_match          | float[]                  | AsJagged(AsDtype('>f4'))\n",
      "jtrip_tpind          | float[]                  | AsJagged(AsDtype('>f4'))\n",
      "jtrip_jind           | float[]                  | AsJagged(AsDtype('>f4'))\n",
      "jtrip_csv            | float[]                  | AsJagged(AsDtype('>f4'))\n",
      "jtrip_m63            | float[]                  | AsJagged(AsDtype('>f4'))\n",
      "trip_qgl             | float[]                  | AsJagged(AsDtype('>f4'))\n",
      "trip_qgt             | float[]                  | AsJagged(AsDtype('>f4'))\n",
      "jtrip_qgl            | float[]                  | AsJagged(AsDtype('>f4'))\n",
      "jtrip_qgt            | float[]                  | AsJagged(AsDtype('>f4'))\n",
      "ptrip_mass           | float[]                  | AsJagged(AsDtype('>f4'))\n",
      "ptrip_vpt            | float[]                  | AsJagged(AsDtype('>f4'))\n",
      "ptrip_spt            | float[]                  | AsJagged(AsDtype('>f4'))\n",
      "ptrip_delta          | float[]                  | AsJagged(AsDtype('>f4'))\n",
      "ptrip_eta            | float[]                  | AsJagged(AsDtype('>f4'))\n",
      "ptrip_phi            | float[]                  | AsJagged(AsDtype('>f4'))\n",
      "ptrip_masym          | float[]                  | AsJagged(AsDtype('>f4'))\n",
      "ptrip_deta           | float[]                  | AsJagged(AsDtype('>f4'))\n",
      "ptrip_mds            | float[]                  | AsJagged(AsDtype('>f4'))\n",
      "ptrip_dlow           | float[]                  | AsJagged(AsDtype('>f4'))\n",
      "ptrip_dmid           | float[]                  | AsJagged(AsDtype('>f4'))\n",
      "ptrip_dhigh          | float[]                  | AsJagged(AsDtype('>f4'))\n",
      "ptrip_match          | float[]                  | AsJagged(AsDtype('>f4'))\n",
      "ptrip_tpind          | float[]                  | AsJagged(AsDtype('>f4'))\n",
      "ptrip_pind           | float[]                  | AsJagged(AsDtype('>f4'))\n",
      "ptrip_csv            | float[]                  | AsJagged(AsDtype('>f4'))\n",
      "ptrip_m63            | float[]                  | AsJagged(AsDtype('>f4'))\n",
      "ptrip_qgl            | float[]                  | AsJagged(AsDtype('>f4'))\n",
      "ptrip_qgt            | float[]                  | AsJagged(AsDtype('>f4'))\n"
     ]
    }
   ],
   "source": [
    "f = uproot.open('output2/trip4_WJetsToQQ_HT-800toInf_1.root')\n",
    "f.classnames()\n",
    "events = f['events']\n",
    "events.show()\n",
    "br = events.arrays()"
   ]
  },
  {
   "cell_type": "code",
   "execution_count": 43,
   "metadata": {},
   "outputs": [
    {
     "data": {
      "text/plain": [
       "(array([105.,   0.,  69.,   0.,   0.,  41.,   0.,   3.,   0.,   1.]),\n",
       " array([ 6. ,  6.4,  6.8,  7.2,  7.6,  8. ,  8.4,  8.8,  9.2,  9.6, 10. ]),\n",
       " <BarContainer object of 10 artists>)"
      ]
     },
     "execution_count": 43,
     "metadata": {},
     "output_type": "execute_result"
    },
    {
     "data": {
      "image/png": "[encoded data removed]",
      "text/plain": [
       "<Figure size 640x480 with 1 Axes>"
      ]
     },
     "metadata": {},
     "output_type": "display_data"
    }
   ],
   "source": [
    "plt.hist(br['ak4_num'])"
   ]
  },
  {
   "cell_type": "code",
   "execution_count": null,
   "metadata": {},
   "outputs": [],
   "source": []
  }
 ],
 "metadata": {
  "kernelspec": {
   "display_name": "multijets_env",
   "language": "python",
   "name": "python3"
  },
  "language_info": {
   "codemirror_mode": {
    "name": "ipython",
    "version": 3
   },
   "file_extension": ".py",
   "mimetype": "text/x-python",
   "name": "python",
   "nbconvert_exporter": "python",
   "pygments_lexer": "ipython3",
   "version": "3.11.4"
  },
  "orig_nbformat": 4
 },
 "nbformat": 4,
 "nbformat_minor": 2
}
